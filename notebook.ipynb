{
 "cells": [
  {
   "cell_type": "code",
   "execution_count": 10,
   "metadata": {},
   "outputs": [],
   "source": [
    "import pandas as pd\n",
    "import numpy as np\n",
    "import zipfile\n",
    "import glob\n",
    "import os\n"
   ]
  },
  {
   "cell_type": "code",
   "execution_count": 6,
   "metadata": {},
   "outputs": [],
   "source": [
    "def split_linz(parts: int):\n",
    "    df = pd.read_csv('raw/nz-street-address.csv')\n",
    "    df['parts'] = np.arange(len(df)) % parts\n",
    "\n",
    "    for p, part in df.groupby('parts'):\n",
    "        part.drop(columns = ['parts']).to_csv(f'nz-street-address/part{p}.csv', index=False)\n",
    "    "
   ]
  },
  {
   "cell_type": "code",
   "execution_count": 8,
   "metadata": {},
   "outputs": [],
   "source": [
    "def zip_delete(file: str):\n",
    "    with zipfile.ZipFile(file + '.zip', 'w', compression = zipfile.ZIP_DEFLATED, compresslevel=9) as zf:\n",
    "        zf.write(file, arcname=file)\n",
    "\n",
    "    os.remove(file)"
   ]
  },
  {
   "cell_type": "code",
   "execution_count": 7,
   "metadata": {},
   "outputs": [
    {
     "name": "stderr",
     "output_type": "stream",
     "text": [
      "/var/folders/6h/81xjvrl90m14__nx0ckcn1g00000gn/T/ipykernel_65643/2254464090.py:2: DtypeWarning: Columns (8,9,18,19) have mixed types. Specify dtype option on import or set low_memory=False.\n",
      "  df = pd.read_csv('raw/nz-street-address.csv')\n"
     ]
    }
   ],
   "source": [
    "split_linz(5)\n",
    "\n",
    "for fn in glob.glob('nz-street-address/*.csv'):\n",
    "    zip_delete(fn)"
   ]
  },
  {
   "cell_type": "code",
   "execution_count": 11,
   "metadata": {},
   "outputs": [],
   "source": []
  },
  {
   "cell_type": "code",
   "execution_count": null,
   "metadata": {},
   "outputs": [],
   "source": []
  }
 ],
 "metadata": {
  "kernelspec": {
   "display_name": "Python 3.10.8 64-bit",
   "language": "python",
   "name": "python3"
  },
  "language_info": {
   "codemirror_mode": {
    "name": "ipython",
    "version": 3
   },
   "file_extension": ".py",
   "mimetype": "text/x-python",
   "name": "python",
   "nbconvert_exporter": "python",
   "pygments_lexer": "ipython3",
   "version": "3.10.8"
  },
  "orig_nbformat": 4,
  "vscode": {
   "interpreter": {
    "hash": "b0fa6594d8f4cbf19f97940f81e996739fb7646882a419484c72d19e05852a7e"
   }
  }
 },
 "nbformat": 4,
 "nbformat_minor": 2
}
